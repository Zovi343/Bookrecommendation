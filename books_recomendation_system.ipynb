{
 "cells": [
  {
   "cell_type": "markdown",
   "id": "85bedf69-00f1-4610-9fde-def7e5a1aed1",
   "metadata": {},
   "source": [
    "# Book recommendations system"
   ]
  },
  {
   "cell_type": "code",
   "execution_count": 3,
   "id": "05dff65e-82f1-4dd6-a02a-3653ade8a6c2",
   "metadata": {
    "tags": []
   },
   "outputs": [],
   "source": [
    "%%capture\n",
    "! pip install seaborn"
   ]
  },
  {
   "cell_type": "code",
   "execution_count": 4,
   "id": "f7c3298a-2a28-44e3-ae0e-c70b2721d87f",
   "metadata": {
    "tags": []
   },
   "outputs": [],
   "source": [
    "import numpy as np\n",
    "import pandas as pd\n",
    "import re\n",
    "import seaborn as sns\n",
    "from time import time\n",
    "from scipy.sparse import csr_matrix\n",
    "from sentence_transformers import SentenceTransformer\n",
    "from sklearn.neighbors import NearestNeighbors\n",
    "import requests\n",
    "from PIL import Image\n",
    "import io\n",
    "\n",
    "import matplotlib.pyplot as plt\n",
    "\n",
    "sns.set() "
   ]
  },
  {
   "cell_type": "markdown",
   "id": "0ab97421-f0ef-4041-9b71-02d50a92f576",
   "metadata": {},
   "source": [
    "## 1. Exploratory Analysis"
   ]
  },
  {
   "cell_type": "code",
   "execution_count": 5,
   "id": "2c8aef01-5b28-4214-b67e-72d81a674e2f",
   "metadata": {
    "tags": []
   },
   "outputs": [
    {
     "name": "stdout",
     "output_type": "stream",
     "text": [
      "<class 'pandas.core.frame.DataFrame'>\n",
      "RangeIndex: 271379 entries, 0 to 271378\n",
      "Data columns (total 8 columns):\n",
      " #   Column               Non-Null Count   Dtype \n",
      "---  ------               --------------   ----- \n",
      " 0   ISBN                 271379 non-null  object\n",
      " 1   Book-Title           271379 non-null  object\n",
      " 2   Book-Author          271378 non-null  object\n",
      " 3   Year-Of-Publication  271379 non-null  int64 \n",
      " 4   Publisher            271377 non-null  object\n",
      " 5   Image-URL-S          271379 non-null  object\n",
      " 6   Image-URL-M          271379 non-null  object\n",
      " 7   Image-URL-L          271379 non-null  object\n",
      "dtypes: int64(1), object(7)\n",
      "memory usage: 16.6+ MB\n"
     ]
    }
   ],
   "source": [
    "df_books = pd.read_csv('./BX-Books.csv', encoding='latin_1', sep=';', escapechar='\\\\', quotechar='\"')\n",
    "df_books.info()"
   ]
  },
  {
   "cell_type": "markdown",
   "id": "804c8e39-49f4-4352-b3f4-76fb1eac30be",
   "metadata": {},
   "source": [
    "Extend books dataset by summaries"
   ]
  },
  {
   "cell_type": "code",
   "execution_count": 6,
   "id": "096055c6-5f0a-4854-87a3-8d4c41fd4b56",
   "metadata": {
    "tags": []
   },
   "outputs": [
    {
     "name": "stdout",
     "output_type": "stream",
     "text": [
      "Number of books without Summary:  128210\n",
      "Number of books without Language:  128203\n",
      "Number of books without Category:  131469\n"
     ]
    }
   ],
   "source": [
    "# src: https://www.kaggle.com/datasets/ruchi798/bookcrossing-dataset\n",
    "df_summaries = pd.read_csv('./Preprocessed_data.csv')\n",
    "df_summaries.drop_duplicates(subset='isbn', inplace=True)\n",
    "df_summaries = df_summaries[['isbn', 'Summary', 'Language', 'Category']]\n",
    "df_summaries.rename(columns={\"isbn\": \"ISBN\"}, inplace=True)\n",
    "print('Number of books without Summary: ', len(df_summaries[df_summaries['Summary'].str.len() < 2].index))\n",
    "print('Number of books without Language: ', len(df_summaries[df_summaries['Language'].str.len() < 2].index))\n",
    "print('Number of books without Category: ', len(df_summaries[df_summaries['Category'].str.len() < 2].index))"
   ]
  },
  {
   "cell_type": "code",
   "execution_count": 7,
   "id": "41f39236-e9e2-4d97-920f-1fd9ebaa2f9b",
   "metadata": {
    "tags": []
   },
   "outputs": [],
   "source": [
    "df_books = df_books.merge(df_summaries, on=\"ISBN\", how=\"left\")\n",
    "df_books['Summary'] = df_books['Summary'].fillna(\"\")"
   ]
  },
  {
   "cell_type": "code",
   "execution_count": 8,
   "id": "7acf87a6-0614-4c64-8c1a-d4b33f6e936c",
   "metadata": {
    "tags": []
   },
   "outputs": [
    {
     "name": "stdout",
     "output_type": "stream",
     "text": [
      "<class 'pandas.core.frame.DataFrame'>\n",
      "Int64Index: 271379 entries, 0 to 271378\n",
      "Data columns (total 11 columns):\n",
      " #   Column               Non-Null Count   Dtype \n",
      "---  ------               --------------   ----- \n",
      " 0   ISBN                 271379 non-null  object\n",
      " 1   Book-Title           271379 non-null  object\n",
      " 2   Book-Author          271378 non-null  object\n",
      " 3   Year-Of-Publication  271379 non-null  int64 \n",
      " 4   Publisher            271377 non-null  object\n",
      " 5   Image-URL-S          271379 non-null  object\n",
      " 6   Image-URL-M          271379 non-null  object\n",
      " 7   Image-URL-L          271379 non-null  object\n",
      " 8   Summary              271379 non-null  object\n",
      " 9   Language             270170 non-null  object\n",
      " 10  Category             270170 non-null  object\n",
      "dtypes: int64(1), object(10)\n",
      "memory usage: 24.8+ MB\n"
     ]
    }
   ],
   "source": [
    "df_books.info()"
   ]
  },
  {
   "cell_type": "code",
   "execution_count": 9,
   "id": "6b9d174e-c261-4baa-9f08-2765dcd8c0bd",
   "metadata": {
    "tags": []
   },
   "outputs": [
    {
     "data": {
      "text/html": [
       "<div>\n",
       "<style scoped>\n",
       "    .dataframe tbody tr th:only-of-type {\n",
       "        vertical-align: middle;\n",
       "    }\n",
       "\n",
       "    .dataframe tbody tr th {\n",
       "        vertical-align: top;\n",
       "    }\n",
       "\n",
       "    .dataframe thead th {\n",
       "        text-align: right;\n",
       "    }\n",
       "</style>\n",
       "<table border=\"1\" class=\"dataframe\">\n",
       "  <thead>\n",
       "    <tr style=\"text-align: right;\">\n",
       "      <th></th>\n",
       "      <th>ISBN</th>\n",
       "      <th>Book-Title</th>\n",
       "      <th>Book-Author</th>\n",
       "      <th>Year-Of-Publication</th>\n",
       "      <th>Publisher</th>\n",
       "      <th>Image-URL-S</th>\n",
       "      <th>Image-URL-M</th>\n",
       "      <th>Image-URL-L</th>\n",
       "      <th>Summary</th>\n",
       "      <th>Language</th>\n",
       "      <th>Category</th>\n",
       "    </tr>\n",
       "  </thead>\n",
       "  <tbody>\n",
       "    <tr>\n",
       "      <th>0</th>\n",
       "      <td>0195153448</td>\n",
       "      <td>Classical Mythology</td>\n",
       "      <td>Mark P. O. Morford</td>\n",
       "      <td>2002</td>\n",
       "      <td>Oxford University Press</td>\n",
       "      <td>http://images.amazon.com/images/P/0195153448.0...</td>\n",
       "      <td>http://images.amazon.com/images/P/0195153448.0...</td>\n",
       "      <td>http://images.amazon.com/images/P/0195153448.0...</td>\n",
       "      <td>Provides an introduction to classical myths pl...</td>\n",
       "      <td>en</td>\n",
       "      <td>['Social Science']</td>\n",
       "    </tr>\n",
       "    <tr>\n",
       "      <th>1</th>\n",
       "      <td>0002005018</td>\n",
       "      <td>Clara Callan</td>\n",
       "      <td>Richard Bruce Wright</td>\n",
       "      <td>2001</td>\n",
       "      <td>HarperFlamingo Canada</td>\n",
       "      <td>http://images.amazon.com/images/P/0002005018.0...</td>\n",
       "      <td>http://images.amazon.com/images/P/0002005018.0...</td>\n",
       "      <td>http://images.amazon.com/images/P/0002005018.0...</td>\n",
       "      <td>In a small town in Canada, Clara Callan reluct...</td>\n",
       "      <td>en</td>\n",
       "      <td>['Actresses']</td>\n",
       "    </tr>\n",
       "    <tr>\n",
       "      <th>2</th>\n",
       "      <td>0060973129</td>\n",
       "      <td>Decision in Normandy</td>\n",
       "      <td>Carlo D'Este</td>\n",
       "      <td>1991</td>\n",
       "      <td>HarperPerennial</td>\n",
       "      <td>http://images.amazon.com/images/P/0060973129.0...</td>\n",
       "      <td>http://images.amazon.com/images/P/0060973129.0...</td>\n",
       "      <td>http://images.amazon.com/images/P/0060973129.0...</td>\n",
       "      <td>Here, for the first time in paperback, is an o...</td>\n",
       "      <td>en</td>\n",
       "      <td>['1940-1949']</td>\n",
       "    </tr>\n",
       "  </tbody>\n",
       "</table>\n",
       "</div>"
      ],
      "text/plain": [
       "         ISBN            Book-Title           Book-Author  \\\n",
       "0  0195153448   Classical Mythology    Mark P. O. Morford   \n",
       "1  0002005018          Clara Callan  Richard Bruce Wright   \n",
       "2  0060973129  Decision in Normandy          Carlo D'Este   \n",
       "\n",
       "   Year-Of-Publication                Publisher  \\\n",
       "0                 2002  Oxford University Press   \n",
       "1                 2001    HarperFlamingo Canada   \n",
       "2                 1991          HarperPerennial   \n",
       "\n",
       "                                         Image-URL-S  \\\n",
       "0  http://images.amazon.com/images/P/0195153448.0...   \n",
       "1  http://images.amazon.com/images/P/0002005018.0...   \n",
       "2  http://images.amazon.com/images/P/0060973129.0...   \n",
       "\n",
       "                                         Image-URL-M  \\\n",
       "0  http://images.amazon.com/images/P/0195153448.0...   \n",
       "1  http://images.amazon.com/images/P/0002005018.0...   \n",
       "2  http://images.amazon.com/images/P/0060973129.0...   \n",
       "\n",
       "                                         Image-URL-L  \\\n",
       "0  http://images.amazon.com/images/P/0195153448.0...   \n",
       "1  http://images.amazon.com/images/P/0002005018.0...   \n",
       "2  http://images.amazon.com/images/P/0060973129.0...   \n",
       "\n",
       "                                             Summary Language  \\\n",
       "0  Provides an introduction to classical myths pl...       en   \n",
       "1  In a small town in Canada, Clara Callan reluct...       en   \n",
       "2  Here, for the first time in paperback, is an o...       en   \n",
       "\n",
       "             Category  \n",
       "0  ['Social Science']  \n",
       "1       ['Actresses']  \n",
       "2       ['1940-1949']  "
      ]
     },
     "execution_count": 9,
     "metadata": {},
     "output_type": "execute_result"
    }
   ],
   "source": [
    "df_books.head(3)"
   ]
  },
  {
   "cell_type": "code",
   "execution_count": 10,
   "id": "455551db-c6e9-4076-8f97-179327dc5d9c",
   "metadata": {
    "tags": []
   },
   "outputs": [
    {
     "name": "stdout",
     "output_type": "stream",
     "text": [
      "<class 'pandas.core.frame.DataFrame'>\n",
      "RangeIndex: 278858 entries, 0 to 278857\n",
      "Data columns (total 3 columns):\n",
      " #   Column    Non-Null Count   Dtype  \n",
      "---  ------    --------------   -----  \n",
      " 0   User-ID   278858 non-null  int64  \n",
      " 1   Location  278858 non-null  object \n",
      " 2   Age       168096 non-null  float64\n",
      "dtypes: float64(1), int64(1), object(1)\n",
      "memory usage: 6.4+ MB\n"
     ]
    }
   ],
   "source": [
    "df_users = pd.read_csv('./BX-Users.csv', encoding='latin_1', sep=';', escapechar='\\\\', quotechar='\"')\n",
    "df_users.info()"
   ]
  },
  {
   "cell_type": "code",
   "execution_count": 11,
   "id": "a97aa0cc-cd2c-41dc-bef4-5c41a7081d6b",
   "metadata": {
    "tags": []
   },
   "outputs": [
    {
     "data": {
      "text/html": [
       "<div>\n",
       "<style scoped>\n",
       "    .dataframe tbody tr th:only-of-type {\n",
       "        vertical-align: middle;\n",
       "    }\n",
       "\n",
       "    .dataframe tbody tr th {\n",
       "        vertical-align: top;\n",
       "    }\n",
       "\n",
       "    .dataframe thead th {\n",
       "        text-align: right;\n",
       "    }\n",
       "</style>\n",
       "<table border=\"1\" class=\"dataframe\">\n",
       "  <thead>\n",
       "    <tr style=\"text-align: right;\">\n",
       "      <th></th>\n",
       "      <th>User-ID</th>\n",
       "      <th>Location</th>\n",
       "      <th>Age</th>\n",
       "    </tr>\n",
       "  </thead>\n",
       "  <tbody>\n",
       "    <tr>\n",
       "      <th>0</th>\n",
       "      <td>1</td>\n",
       "      <td>nyc, new york, usa</td>\n",
       "      <td>NaN</td>\n",
       "    </tr>\n",
       "    <tr>\n",
       "      <th>1</th>\n",
       "      <td>2</td>\n",
       "      <td>stockton, california, usa</td>\n",
       "      <td>18.0</td>\n",
       "    </tr>\n",
       "    <tr>\n",
       "      <th>2</th>\n",
       "      <td>3</td>\n",
       "      <td>moscow, yukon territory, russia</td>\n",
       "      <td>NaN</td>\n",
       "    </tr>\n",
       "    <tr>\n",
       "      <th>3</th>\n",
       "      <td>4</td>\n",
       "      <td>porto, v.n.gaia, portugal</td>\n",
       "      <td>17.0</td>\n",
       "    </tr>\n",
       "    <tr>\n",
       "      <th>4</th>\n",
       "      <td>5</td>\n",
       "      <td>farnborough, hants, united kingdom</td>\n",
       "      <td>NaN</td>\n",
       "    </tr>\n",
       "  </tbody>\n",
       "</table>\n",
       "</div>"
      ],
      "text/plain": [
       "   User-ID                            Location   Age\n",
       "0        1                  nyc, new york, usa   NaN\n",
       "1        2           stockton, california, usa  18.0\n",
       "2        3     moscow, yukon territory, russia   NaN\n",
       "3        4           porto, v.n.gaia, portugal  17.0\n",
       "4        5  farnborough, hants, united kingdom   NaN"
      ]
     },
     "execution_count": 11,
     "metadata": {},
     "output_type": "execute_result"
    }
   ],
   "source": [
    "df_users.head()"
   ]
  },
  {
   "cell_type": "markdown",
   "id": "064983be-f2c5-49b0-aba7-ac063e76dd50",
   "metadata": {},
   "source": [
    "More than half of the users have no age. There also so seem to be some age outliers since some users reported age above 150."
   ]
  },
  {
   "cell_type": "code",
   "execution_count": 12,
   "id": "b1057df0-e406-45c5-8f8a-6ec97dad2acb",
   "metadata": {
    "tags": []
   },
   "outputs": [
    {
     "name": "stdout",
     "output_type": "stream",
     "text": [
      "<class 'pandas.core.frame.DataFrame'>\n",
      "RangeIndex: 1149780 entries, 0 to 1149779\n",
      "Data columns (total 3 columns):\n",
      " #   Column       Non-Null Count    Dtype \n",
      "---  ------       --------------    ----- \n",
      " 0   User-ID      1149780 non-null  int64 \n",
      " 1   ISBN         1149780 non-null  object\n",
      " 2   Book-Rating  1149780 non-null  int64 \n",
      "dtypes: int64(2), object(1)\n",
      "memory usage: 26.3+ MB\n"
     ]
    }
   ],
   "source": [
    "df_ratings = pd.read_csv('./BX-Book-Ratings.csv', encoding='latin_1', sep=';', escapechar='\\\\', quotechar='\"')\n",
    "df_ratings.info()"
   ]
  },
  {
   "cell_type": "code",
   "execution_count": 13,
   "id": "c83cae74-88b9-400d-836c-9305c9d72a8f",
   "metadata": {
    "tags": []
   },
   "outputs": [
    {
     "data": {
      "text/html": [
       "<div>\n",
       "<style scoped>\n",
       "    .dataframe tbody tr th:only-of-type {\n",
       "        vertical-align: middle;\n",
       "    }\n",
       "\n",
       "    .dataframe tbody tr th {\n",
       "        vertical-align: top;\n",
       "    }\n",
       "\n",
       "    .dataframe thead th {\n",
       "        text-align: right;\n",
       "    }\n",
       "</style>\n",
       "<table border=\"1\" class=\"dataframe\">\n",
       "  <thead>\n",
       "    <tr style=\"text-align: right;\">\n",
       "      <th></th>\n",
       "      <th>User-ID</th>\n",
       "      <th>ISBN</th>\n",
       "      <th>Book-Rating</th>\n",
       "    </tr>\n",
       "  </thead>\n",
       "  <tbody>\n",
       "    <tr>\n",
       "      <th>0</th>\n",
       "      <td>276725</td>\n",
       "      <td>034545104X</td>\n",
       "      <td>0</td>\n",
       "    </tr>\n",
       "    <tr>\n",
       "      <th>1</th>\n",
       "      <td>276726</td>\n",
       "      <td>0155061224</td>\n",
       "      <td>5</td>\n",
       "    </tr>\n",
       "    <tr>\n",
       "      <th>2</th>\n",
       "      <td>276727</td>\n",
       "      <td>0446520802</td>\n",
       "      <td>0</td>\n",
       "    </tr>\n",
       "    <tr>\n",
       "      <th>3</th>\n",
       "      <td>276729</td>\n",
       "      <td>052165615X</td>\n",
       "      <td>3</td>\n",
       "    </tr>\n",
       "    <tr>\n",
       "      <th>4</th>\n",
       "      <td>276729</td>\n",
       "      <td>0521795028</td>\n",
       "      <td>6</td>\n",
       "    </tr>\n",
       "  </tbody>\n",
       "</table>\n",
       "</div>"
      ],
      "text/plain": [
       "   User-ID        ISBN  Book-Rating\n",
       "0   276725  034545104X            0\n",
       "1   276726  0155061224            5\n",
       "2   276727  0446520802            0\n",
       "3   276729  052165615X            3\n",
       "4   276729  0521795028            6"
      ]
     },
     "execution_count": 13,
     "metadata": {},
     "output_type": "execute_result"
    }
   ],
   "source": [
    "df_ratings.head()"
   ]
  },
  {
   "cell_type": "code",
   "execution_count": 14,
   "id": "2037ef87-0764-49c5-b37e-8a22069a4ca1",
   "metadata": {
    "tags": []
   },
   "outputs": [
    {
     "name": "stdout",
     "output_type": "stream",
     "text": [
      "Number of NaN ages: 110762\n",
      "Number of ages above 110: 96\n"
     ]
    },
    {
     "data": {
      "image/png": "[encoded data removed]",
      "text/plain": [
       "<Figure size 1000x500 with 1 Axes>"
      ]
     },
     "metadata": {},
     "output_type": "display_data"
    }
   ],
   "source": [
    "np_age = df_users['Age'].to_numpy()\n",
    "np_age_num = np_age[~np.isnan(np_age)]\n",
    "print('Number of NaN ages:', np.count_nonzero(np.isnan(np_age)))\n",
    "print('Number of ages above 110:', np_age_num[np_age_num > 110].size)\n",
    "\n",
    "age_x_ticks = [5 * x for x in range(23)]\n",
    "fig, (ax1) = plt.subplots(nrows=1, ncols=1, sharey=False, figsize=(10,5))\n",
    "sns.histplot(data=df_users, x=\"Age\", ax=ax1, bins=age_x_ticks)\n",
    "plt.title('Age histogram')\n",
    "plt.xlim(0, 110)\n",
    "ax1.set_xticks(age_x_ticks)\n",
    "plt.show()"
   ]
  },
  {
   "cell_type": "markdown",
   "id": "8da9df3a-9ba5-4b9a-bd47-ecffe31a6100",
   "metadata": {},
   "source": [
    "We can see that most review are in the form of implicit reviews denoted by zero."
   ]
  },
  {
   "cell_type": "code",
   "execution_count": 15,
   "id": "fb44595f-dab5-43ab-ae00-df7225ca8ab6",
   "metadata": {
    "tags": []
   },
   "outputs": [
    {
     "data": {
      "image/png": "[encoded data removed]",
      "text/plain": [
       "<Figure size 800x500 with 1 Axes>"
      ]
     },
     "metadata": {},
     "output_type": "display_data"
    }
   ],
   "source": [
    "ratings_x_ticks = [x for x in range(11)]\n",
    "fig, (ax1) = plt.subplots(nrows=1, ncols=1, sharey=False, figsize=(8,5))\n",
    "sns.histplot(data=df_ratings, x=\"Book-Rating\", ax=ax1, discrete=True)\n",
    "ax1.set_xticks(ratings_x_ticks)\n",
    "plt.title('Ratings histogram.')\n",
    "plt.show()"
   ]
  },
  {
   "cell_type": "markdown",
   "id": "c61e116b-f025-4c64-9857-e971bbd90b1d",
   "metadata": {},
   "source": [
    "## 2. Preprocessing"
   ]
  },
  {
   "cell_type": "markdown",
   "id": "9b5ef8f8-b88f-45ca-a0f4-bd98527bc092",
   "metadata": {},
   "source": [
    "Preprocess ISBN and remove duplicate books"
   ]
  },
  {
   "cell_type": "code",
   "execution_count": 16,
   "id": "8c31a0b5-26b7-40e3-83ff-541362a1cf93",
   "metadata": {
    "tags": []
   },
   "outputs": [
    {
     "name": "stdout",
     "output_type": "stream",
     "text": [
      "Invalid ISBN in the dataset ['0486404242\\t' '3518365479<90' '3442248027  3' '0385722206  0']\n"
     ]
    }
   ],
   "source": [
    "np_isbn = df_books['ISBN'].to_numpy(dtype='str')\n",
    "non_alnum = np.vectorize(lambda x: bool(re.search(r'\\W', x)))\n",
    "result = non_alnum(np_isbn)\n",
    "strings_with_non_alnum = np_isbn[result]\n",
    "print('Invalid ISBN in the dataset', strings_with_non_alnum)"
   ]
  },
  {
   "cell_type": "code",
   "execution_count": 17,
   "id": "7b0efd49-16f1-435a-b5ca-06d92f31b28b",
   "metadata": {
    "tags": []
   },
   "outputs": [],
   "source": [
    "# Correct invalid ISBN\n",
    "df_books['ISBN'] = df_books['ISBN'].apply(lambda x: re.sub(r'[\\W_]', '', x.strip()))"
   ]
  },
  {
   "cell_type": "code",
   "execution_count": 18,
   "id": "04420ca5-6ac1-4c64-96d8-6102517c2fc9",
   "metadata": {
    "tags": []
   },
   "outputs": [
    {
     "name": "stdout",
     "output_type": "stream",
     "text": [
      "Books dataframe size beofre duplicate removal 271379\n",
      "Books dataframe size after duplicate removal 271378\n"
     ]
    }
   ],
   "source": [
    "print('Books dataframe size beofre duplicate removal', len(df_books.index))\n",
    "# Remove books with duplicate ISBN\n",
    "df_books.drop_duplicates(subset='ISBN', inplace=True)\n",
    "print('Books dataframe size after duplicate removal', len(df_books.index))"
   ]
  },
  {
   "cell_type": "code",
   "execution_count": 19,
   "id": "5b84ffb9-f6a9-45b3-a70e-db2c941a0d1d",
   "metadata": {
    "tags": []
   },
   "outputs": [],
   "source": [
    "df_books['Book-Author'] = df_books['Book-Author'].fillna(\"\")\n",
    "df_books['Publisher'] = df_books['Publisher'].fillna(\"\")\n",
    "df_books['Language'] = df_books['Language'].fillna(\"\")\n",
    "df_books['Category'] = df_books['Category'].fillna(\"\")"
   ]
  },
  {
   "cell_type": "code",
   "execution_count": 20,
   "id": "4a361c6e-3ec6-4947-b379-4afbc2cbfb29",
   "metadata": {
    "tags": []
   },
   "outputs": [
    {
     "name": "stdout",
     "output_type": "stream",
     "text": [
      "False\n",
      "False\n",
      "False\n",
      "False\n",
      "False\n",
      "False\n",
      "False\n"
     ]
    }
   ],
   "source": [
    "print(np.any(df_books['Summary'].isna()))\n",
    "print(np.any(df_books['Book-Title'].isna()))\n",
    "print(np.any(df_books['Book-Author'].isna()))\n",
    "print(np.any(df_books['Year-Of-Publication'].isna()))\n",
    "print(np.any(df_books['Publisher'].isna()))\n",
    "print(np.any(df_books['Language'].isna()))\n",
    "print(np.any(df_books['Category'].isna()))"
   ]
  },
  {
   "cell_type": "markdown",
   "id": "8b6ac932-b3fe-4bd1-9d0e-429969fc4c5c",
   "metadata": {},
   "source": [
    "Add title, author, publication year and publisher to summary."
   ]
  },
  {
   "cell_type": "code",
   "execution_count": 21,
   "id": "54aad3c8-8567-4e0f-a92b-520d1800dfec",
   "metadata": {
    "tags": []
   },
   "outputs": [],
   "source": [
    "df_books.loc[df_books['Summary'].str.len() < 2, 'Summary'] = \"\"\n",
    "df_books.loc[df_books['Language'].str.len() < 2, 'Language'] = \"\"\n",
    "df_books.loc[df_books['Category'].str.len() < 2, 'Category'] = \"\"\n",
    "\n",
    "df_books.loc[df_books['Summary'].str.len() > 2, 'BetterSummary'] = df_books.apply(lambda row: f\"{row['Book-Title']}, {row['Book-Author']}, {row['Year-Of-Publication']}, {row['Publisher']}, {row['Language']}, {row['Category']}: {row['Summary']}\", axis=1)"
   ]
  },
  {
   "cell_type": "code",
   "execution_count": 22,
   "id": "85bbd930-c112-4700-86b9-ea2fb51053cb",
   "metadata": {
    "tags": []
   },
   "outputs": [
    {
     "data": {
      "text/html": [
       "<div>\n",
       "<style scoped>\n",
       "    .dataframe tbody tr th:only-of-type {\n",
       "        vertical-align: middle;\n",
       "    }\n",
       "\n",
       "    .dataframe tbody tr th {\n",
       "        vertical-align: top;\n",
       "    }\n",
       "\n",
       "    .dataframe thead th {\n",
       "        text-align: right;\n",
       "    }\n",
       "</style>\n",
       "<table border=\"1\" class=\"dataframe\">\n",
       "  <thead>\n",
       "    <tr style=\"text-align: right;\">\n",
       "      <th></th>\n",
       "      <th>ISBN</th>\n",
       "      <th>Book-Title</th>\n",
       "      <th>Book-Author</th>\n",
       "      <th>Year-Of-Publication</th>\n",
       "      <th>Publisher</th>\n",
       "      <th>Image-URL-S</th>\n",
       "      <th>Image-URL-M</th>\n",
       "      <th>Image-URL-L</th>\n",
       "      <th>Summary</th>\n",
       "      <th>Language</th>\n",
       "      <th>Category</th>\n",
       "      <th>BetterSummary</th>\n",
       "    </tr>\n",
       "  </thead>\n",
       "  <tbody>\n",
       "    <tr>\n",
       "      <th>0</th>\n",
       "      <td>0195153448</td>\n",
       "      <td>Classical Mythology</td>\n",
       "      <td>Mark P. O. Morford</td>\n",
       "      <td>2002</td>\n",
       "      <td>Oxford University Press</td>\n",
       "      <td>http://images.amazon.com/images/P/0195153448.0...</td>\n",
       "      <td>http://images.amazon.com/images/P/0195153448.0...</td>\n",
       "      <td>http://images.amazon.com/images/P/0195153448.0...</td>\n",
       "      <td>Provides an introduction to classical myths pl...</td>\n",
       "      <td>en</td>\n",
       "      <td>['Social Science']</td>\n",
       "      <td>Classical Mythology, Mark P. O. Morford, 2002,...</td>\n",
       "    </tr>\n",
       "    <tr>\n",
       "      <th>1</th>\n",
       "      <td>0002005018</td>\n",
       "      <td>Clara Callan</td>\n",
       "      <td>Richard Bruce Wright</td>\n",
       "      <td>2001</td>\n",
       "      <td>HarperFlamingo Canada</td>\n",
       "      <td>http://images.amazon.com/images/P/0002005018.0...</td>\n",
       "      <td>http://images.amazon.com/images/P/0002005018.0...</td>\n",
       "      <td>http://images.amazon.com/images/P/0002005018.0...</td>\n",
       "      <td>In a small town in Canada, Clara Callan reluct...</td>\n",
       "      <td>en</td>\n",
       "      <td>['Actresses']</td>\n",
       "      <td>Clara Callan, Richard Bruce Wright, 2001, Harp...</td>\n",
       "    </tr>\n",
       "    <tr>\n",
       "      <th>2</th>\n",
       "      <td>0060973129</td>\n",
       "      <td>Decision in Normandy</td>\n",
       "      <td>Carlo D'Este</td>\n",
       "      <td>1991</td>\n",
       "      <td>HarperPerennial</td>\n",
       "      <td>http://images.amazon.com/images/P/0060973129.0...</td>\n",
       "      <td>http://images.amazon.com/images/P/0060973129.0...</td>\n",
       "      <td>http://images.amazon.com/images/P/0060973129.0...</td>\n",
       "      <td>Here, for the first time in paperback, is an o...</td>\n",
       "      <td>en</td>\n",
       "      <td>['1940-1949']</td>\n",
       "      <td>Decision in Normandy, Carlo D'Este, 1991, Harp...</td>\n",
       "    </tr>\n",
       "  </tbody>\n",
       "</table>\n",
       "</div>"
      ],
      "text/plain": [
       "         ISBN            Book-Title           Book-Author  \\\n",
       "0  0195153448   Classical Mythology    Mark P. O. Morford   \n",
       "1  0002005018          Clara Callan  Richard Bruce Wright   \n",
       "2  0060973129  Decision in Normandy          Carlo D'Este   \n",
       "\n",
       "   Year-Of-Publication                Publisher  \\\n",
       "0                 2002  Oxford University Press   \n",
       "1                 2001    HarperFlamingo Canada   \n",
       "2                 1991          HarperPerennial   \n",
       "\n",
       "                                         Image-URL-S  \\\n",
       "0  http://images.amazon.com/images/P/0195153448.0...   \n",
       "1  http://images.amazon.com/images/P/0002005018.0...   \n",
       "2  http://images.amazon.com/images/P/0060973129.0...   \n",
       "\n",
       "                                         Image-URL-M  \\\n",
       "0  http://images.amazon.com/images/P/0195153448.0...   \n",
       "1  http://images.amazon.com/images/P/0002005018.0...   \n",
       "2  http://images.amazon.com/images/P/0060973129.0...   \n",
       "\n",
       "                                         Image-URL-L  \\\n",
       "0  http://images.amazon.com/images/P/0195153448.0...   \n",
       "1  http://images.amazon.com/images/P/0002005018.0...   \n",
       "2  http://images.amazon.com/images/P/0060973129.0...   \n",
       "\n",
       "                                             Summary Language  \\\n",
       "0  Provides an introduction to classical myths pl...       en   \n",
       "1  In a small town in Canada, Clara Callan reluct...       en   \n",
       "2  Here, for the first time in paperback, is an o...       en   \n",
       "\n",
       "             Category                                      BetterSummary  \n",
       "0  ['Social Science']  Classical Mythology, Mark P. O. Morford, 2002,...  \n",
       "1       ['Actresses']  Clara Callan, Richard Bruce Wright, 2001, Harp...  \n",
       "2       ['1940-1949']  Decision in Normandy, Carlo D'Este, 1991, Harp...  "
      ]
     },
     "execution_count": 22,
     "metadata": {},
     "output_type": "execute_result"
    }
   ],
   "source": [
    "df_books.head(3)"
   ]
  },
  {
   "cell_type": "markdown",
   "id": "3a5ccab8-c9b8-46c0-990d-b045262bad01",
   "metadata": {},
   "source": [
    "Add one to rating column. To avoid representing implicit review in a same way as no review."
   ]
  },
  {
   "cell_type": "code",
   "execution_count": 23,
   "id": "e356c59f-5143-41b8-9632-77d26e7873ce",
   "metadata": {
    "tags": []
   },
   "outputs": [],
   "source": [
    "df_ratings.loc[:, 'Book-Rating'] += 1"
   ]
  },
  {
   "cell_type": "markdown",
   "id": "0bcc2792-1b57-42fa-8652-15b2b8c56626",
   "metadata": {},
   "source": [
    "Merge all tables together so ratings index is the unique identifier"
   ]
  },
  {
   "cell_type": "code",
   "execution_count": 24,
   "id": "c43125d2-f626-4489-9d00-66eef06dcaa8",
   "metadata": {
    "tags": []
   },
   "outputs": [
    {
     "name": "stdout",
     "output_type": "stream",
     "text": [
      "df_ratings_books number of rows: 1031171\n",
      "df_ratings_books_users number of rows: 1031171\n"
     ]
    }
   ],
   "source": [
    "# We perform inner join since we don't want ratings with ISBN that is not in the books table\n",
    "df_ratings_books = df_ratings.merge(df_books, on=\"ISBN\", how=\"inner\")\n",
    "print('df_ratings_books number of rows:', df_ratings_books.shape[0])\n",
    "\n",
    "df_ratings_books_users = df_ratings_books.merge(df_users, on=\"User-ID\", how=\"inner\")\n",
    "print('df_ratings_books_users number of rows:', df_ratings_books_users.shape[0])"
   ]
  },
  {
   "cell_type": "code",
   "execution_count": 25,
   "id": "f6566cab-5d8f-4567-830f-c4fc6e021986",
   "metadata": {
    "tags": []
   },
   "outputs": [
    {
     "data": {
      "text/plain": [
       "ISBN\n",
       "0316666343    7082\n",
       "0971880107    5053\n",
       "0385504209    4991\n",
       "Name: Book-Rating, dtype: int64"
      ]
     },
     "execution_count": 25,
     "metadata": {},
     "output_type": "execute_result"
    }
   ],
   "source": [
    "series_books_sumed_rating = df_ratings_books_users.groupby('ISBN')[\"Book-Rating\"].sum()\n",
    "series_books_sumed_rating.sort_values(ascending=False).head(3)"
   ]
  },
  {
   "cell_type": "code",
   "execution_count": 26,
   "id": "009add60-a04b-45a0-b9b7-7cdde355a531",
   "metadata": {
    "tags": []
   },
   "outputs": [
    {
     "data": {
      "text/plain": [
       "ISBN\n",
       "0971880107    2502\n",
       "0316666343    1295\n",
       "0385504209     883\n",
       "Name: Book-Rating, dtype: int64"
      ]
     },
     "execution_count": 26,
     "metadata": {},
     "output_type": "execute_result"
    }
   ],
   "source": [
    "series_books_number_of_rating = df_ratings_books_users.groupby('ISBN')[\"Book-Rating\"].count()\n",
    "series_books_number_of_rating.sort_values(ascending=False).head(3)"
   ]
  },
  {
   "cell_type": "code",
   "execution_count": 27,
   "id": "6555cff5-30d9-46c5-8a7a-138183ef462e",
   "metadata": {
    "tags": []
   },
   "outputs": [],
   "source": [
    "series_books_average_rating = series_books_sumed_rating / series_books_number_of_rating"
   ]
  },
  {
   "cell_type": "code",
   "execution_count": 28,
   "id": "3c7b857f-a8e4-4e30-a555-7d133bdf46c8",
   "metadata": {
    "tags": []
   },
   "outputs": [],
   "source": [
    "# src: https://stackoverflow.com/questions/46027653/adding-labels-in-x-y-scatter-plot-with-seaborn\n",
    "def label_point(x, y, val, ax):\n",
    "    a = pd.concat({'x': x, 'y': y, 'val': val}, axis=1)\n",
    "    for i, point in a.iterrows():\n",
    "        ax.text(point['x']+.02, point['y'], str(point['val']), size='medium', color='black')"
   ]
  },
  {
   "cell_type": "code",
   "execution_count": 29,
   "id": "4dba9213-7ede-4de0-a15b-f64494fe80e0",
   "metadata": {
    "tags": []
   },
   "outputs": [
    {
     "data": {
      "image/png": "[encoded data removed]",
      "text/plain": [
       "<Figure size 2000x1000 with 1 Axes>"
      ]
     },
     "metadata": {},
     "output_type": "display_data"
    }
   ],
   "source": [
    "# Add ratings count to the df_ratings_books_users dataframe\n",
    "df_ratings_books_users['Ratings_count'] = df_ratings_books_users['ISBN'].map(series_books_number_of_rating)\n",
    "df_ratings_books_users['Average_rating'] = df_ratings_books_users['ISBN'].map(series_books_average_rating)\n",
    "\n",
    "top_20_books = df_ratings_books_users.drop_duplicates(subset=['ISBN']).sort_values(by='Ratings_count', ascending=False).head(12)\n",
    "\n",
    "# src: https://stackoverflow.com/questions/46027653/adding-labels-in-x-y-scatter-plot-with-seaborn\n",
    "ax = sns.lmplot(x='Ratings_count', # Horizontal axis\n",
    "           y='Average_rating', # Vertical axis\n",
    "           data=top_20_books, # Data source\n",
    "           fit_reg=False, # Don't fix a regression line\n",
    "           aspect = 2,\n",
    "           height = 10) # size and dimension\n",
    "\n",
    "plt.title('Books by total review and average review')\n",
    "plt.xlabel('Total Reviews')\n",
    "plt.xlim(500, 2600)\n",
    "plt.ylim(1, 8)\n",
    "plt.ylabel('Average Review')\n",
    "\n",
    "label_point(top_20_books.Ratings_count, top_20_books.Average_rating, top_20_books['Book-Title'], plt.gca())"
   ]
  },
  {
   "cell_type": "markdown",
   "id": "8d140eb4-b58a-49fb-8506-94d99c2a0c0c",
   "metadata": {},
   "source": [
    "## 3. Approaches"
   ]
  },
  {
   "cell_type": "markdown",
   "id": "36648c93-a247-404c-bc63-827da1e55a98",
   "metadata": {},
   "source": [
    "### User Vectors"
   ]
  },
  {
   "cell_type": "markdown",
   "id": "6f6353ad-6d0a-417e-947b-218f38d8187e",
   "metadata": {},
   "source": [
    "As a baseline I will use KNN model on user vectors."
   ]
  },
  {
   "cell_type": "markdown",
   "id": "9542ec49-e7ed-4827-9bd2-4f923be2a55c",
   "metadata": {},
   "source": [
    "### Transformers"
   ]
  },
  {
   "cell_type": "markdown",
   "id": "4b5331a6-50c7-423c-b558-7a45d92eaae6",
   "metadata": {},
   "source": [
    "Second model will consists of applying to sentence transformer to individual books and their summaries (this will require extended version of the dataset)."
   ]
  },
  {
   "cell_type": "markdown",
   "id": "0a6961a6-7f02-48bd-aa5b-8c10d3c8c264",
   "metadata": {},
   "source": [
    "## 4. Training"
   ]
  },
  {
   "cell_type": "markdown",
   "id": "81c5985d-678e-4701-9565-0c65adda1ea1",
   "metadata": {},
   "source": [
    "### User Vectors"
   ]
  },
  {
   "cell_type": "markdown",
   "id": "dbf54851-d57c-489d-9fd4-2016fd4c048d",
   "metadata": {},
   "source": [
    "We only take books with at least 10 books. If we took all the books the matrix would get extemly large and sparse."
   ]
  },
  {
   "cell_type": "code",
   "execution_count": 30,
   "id": "147597c8-5258-4641-989c-73f80b868ed6",
   "metadata": {
    "tags": []
   },
   "outputs": [
    {
     "data": {
      "text/html": [
       "<div>\n",
       "<style scoped>\n",
       "    .dataframe tbody tr th:only-of-type {\n",
       "        vertical-align: middle;\n",
       "    }\n",
       "\n",
       "    .dataframe tbody tr th {\n",
       "        vertical-align: top;\n",
       "    }\n",
       "\n",
       "    .dataframe thead th {\n",
       "        text-align: right;\n",
       "    }\n",
       "</style>\n",
       "<table border=\"1\" class=\"dataframe\">\n",
       "  <thead>\n",
       "    <tr style=\"text-align: right;\">\n",
       "      <th>User-ID</th>\n",
       "      <th>8</th>\n",
       "      <th>9</th>\n",
       "      <th>10</th>\n",
       "      <th>14</th>\n",
       "      <th>16</th>\n",
       "      <th>17</th>\n",
       "      <th>19</th>\n",
       "      <th>23</th>\n",
       "      <th>26</th>\n",
       "      <th>32</th>\n",
       "      <th>...</th>\n",
       "      <th>278832</th>\n",
       "      <th>278836</th>\n",
       "      <th>278838</th>\n",
       "      <th>278843</th>\n",
       "      <th>278844</th>\n",
       "      <th>278846</th>\n",
       "      <th>278849</th>\n",
       "      <th>278851</th>\n",
       "      <th>278852</th>\n",
       "      <th>278854</th>\n",
       "    </tr>\n",
       "    <tr>\n",
       "      <th>ISBN</th>\n",
       "      <th></th>\n",
       "      <th></th>\n",
       "      <th></th>\n",
       "      <th></th>\n",
       "      <th></th>\n",
       "      <th></th>\n",
       "      <th></th>\n",
       "      <th></th>\n",
       "      <th></th>\n",
       "      <th></th>\n",
       "      <th></th>\n",
       "      <th></th>\n",
       "      <th></th>\n",
       "      <th></th>\n",
       "      <th></th>\n",
       "      <th></th>\n",
       "      <th></th>\n",
       "      <th></th>\n",
       "      <th></th>\n",
       "      <th></th>\n",
       "      <th></th>\n",
       "    </tr>\n",
       "  </thead>\n",
       "  <tbody>\n",
       "    <tr>\n",
       "      <th>0002005018</th>\n",
       "      <td>6</td>\n",
       "      <td>0</td>\n",
       "      <td>0</td>\n",
       "      <td>0</td>\n",
       "      <td>0</td>\n",
       "      <td>0</td>\n",
       "      <td>0</td>\n",
       "      <td>0</td>\n",
       "      <td>0</td>\n",
       "      <td>0</td>\n",
       "      <td>...</td>\n",
       "      <td>0</td>\n",
       "      <td>0</td>\n",
       "      <td>0</td>\n",
       "      <td>0</td>\n",
       "      <td>0</td>\n",
       "      <td>0</td>\n",
       "      <td>0</td>\n",
       "      <td>0</td>\n",
       "      <td>0</td>\n",
       "      <td>0</td>\n",
       "    </tr>\n",
       "    <tr>\n",
       "      <th>0002251760</th>\n",
       "      <td>0</td>\n",
       "      <td>0</td>\n",
       "      <td>0</td>\n",
       "      <td>0</td>\n",
       "      <td>0</td>\n",
       "      <td>0</td>\n",
       "      <td>0</td>\n",
       "      <td>0</td>\n",
       "      <td>0</td>\n",
       "      <td>0</td>\n",
       "      <td>...</td>\n",
       "      <td>0</td>\n",
       "      <td>0</td>\n",
       "      <td>0</td>\n",
       "      <td>0</td>\n",
       "      <td>0</td>\n",
       "      <td>0</td>\n",
       "      <td>0</td>\n",
       "      <td>0</td>\n",
       "      <td>0</td>\n",
       "      <td>0</td>\n",
       "    </tr>\n",
       "    <tr>\n",
       "      <th>0002259834</th>\n",
       "      <td>0</td>\n",
       "      <td>0</td>\n",
       "      <td>0</td>\n",
       "      <td>0</td>\n",
       "      <td>0</td>\n",
       "      <td>0</td>\n",
       "      <td>0</td>\n",
       "      <td>0</td>\n",
       "      <td>0</td>\n",
       "      <td>0</td>\n",
       "      <td>...</td>\n",
       "      <td>0</td>\n",
       "      <td>0</td>\n",
       "      <td>0</td>\n",
       "      <td>0</td>\n",
       "      <td>0</td>\n",
       "      <td>0</td>\n",
       "      <td>0</td>\n",
       "      <td>0</td>\n",
       "      <td>0</td>\n",
       "      <td>0</td>\n",
       "    </tr>\n",
       "    <tr>\n",
       "      <th>0002558122</th>\n",
       "      <td>0</td>\n",
       "      <td>0</td>\n",
       "      <td>0</td>\n",
       "      <td>0</td>\n",
       "      <td>0</td>\n",
       "      <td>0</td>\n",
       "      <td>0</td>\n",
       "      <td>0</td>\n",
       "      <td>0</td>\n",
       "      <td>0</td>\n",
       "      <td>...</td>\n",
       "      <td>0</td>\n",
       "      <td>0</td>\n",
       "      <td>0</td>\n",
       "      <td>0</td>\n",
       "      <td>0</td>\n",
       "      <td>0</td>\n",
       "      <td>0</td>\n",
       "      <td>0</td>\n",
       "      <td>0</td>\n",
       "      <td>0</td>\n",
       "    </tr>\n",
       "    <tr>\n",
       "      <th>0006480764</th>\n",
       "      <td>0</td>\n",
       "      <td>0</td>\n",
       "      <td>0</td>\n",
       "      <td>0</td>\n",
       "      <td>0</td>\n",
       "      <td>0</td>\n",
       "      <td>0</td>\n",
       "      <td>0</td>\n",
       "      <td>0</td>\n",
       "      <td>0</td>\n",
       "      <td>...</td>\n",
       "      <td>0</td>\n",
       "      <td>0</td>\n",
       "      <td>0</td>\n",
       "      <td>0</td>\n",
       "      <td>0</td>\n",
       "      <td>0</td>\n",
       "      <td>0</td>\n",
       "      <td>0</td>\n",
       "      <td>0</td>\n",
       "      <td>0</td>\n",
       "    </tr>\n",
       "  </tbody>\n",
       "</table>\n",
       "<p>5 rows × 63912 columns</p>\n",
       "</div>"
      ],
      "text/plain": [
       "User-ID     8       9       10      14      16      17      19      23      \\\n",
       "ISBN                                                                         \n",
       "0002005018       6       0       0       0       0       0       0       0   \n",
       "0002251760       0       0       0       0       0       0       0       0   \n",
       "0002259834       0       0       0       0       0       0       0       0   \n",
       "0002558122       0       0       0       0       0       0       0       0   \n",
       "0006480764       0       0       0       0       0       0       0       0   \n",
       "\n",
       "User-ID     26      32      ...  278832  278836  278838  278843  278844  \\\n",
       "ISBN                        ...                                           \n",
       "0002005018       0       0  ...       0       0       0       0       0   \n",
       "0002251760       0       0  ...       0       0       0       0       0   \n",
       "0002259834       0       0  ...       0       0       0       0       0   \n",
       "0002558122       0       0  ...       0       0       0       0       0   \n",
       "0006480764       0       0  ...       0       0       0       0       0   \n",
       "\n",
       "User-ID     278846  278849  278851  278852  278854  \n",
       "ISBN                                                \n",
       "0002005018       0       0       0       0       0  \n",
       "0002251760       0       0       0       0       0  \n",
       "0002259834       0       0       0       0       0  \n",
       "0002558122       0       0       0       0       0  \n",
       "0006480764       0       0       0       0       0  \n",
       "\n",
       "[5 rows x 63912 columns]"
      ]
     },
     "execution_count": 30,
     "metadata": {},
     "output_type": "execute_result"
    }
   ],
   "source": [
    "# Books with too few ratings will have very sparse user vectors. Therefore we want to filter them out.\n",
    "df_filtered_ratings_books_users = df_ratings_books_users[df_ratings_books_users['Ratings_count'] > 10]\n",
    "# Create user vector\n",
    "df_user_vectors = df_filtered_ratings_books_users.pivot(index='ISBN', columns='User-ID', values='Book-Rating').fillna(0).astype(\"uint8\")\n",
    "df_user_vectors.head()"
   ]
  },
  {
   "cell_type": "code",
   "execution_count": 31,
   "id": "9b456b49-342c-4603-808d-69b8dd366b08",
   "metadata": {
    "tags": []
   },
   "outputs": [
    {
     "data": {
      "text/html": [
       "<style>#sk-container-id-1 {color: black;background-color: white;}#sk-container-id-1 pre{padding: 0;}#sk-container-id-1 div.sk-toggleable {background-color: white;}#sk-container-id-1 label.sk-toggleable__label {cursor: pointer;display: block;width: 100%;margin-bottom: 0;padding: 0.3em;box-sizing: border-box;text-align: center;}#sk-container-id-1 label.sk-toggleable__label-arrow:before {content: \"▸\";float: left;margin-right: 0.25em;color: #696969;}#sk-container-id-1 label.sk-toggleable__label-arrow:hover:before {color: black;}#sk-container-id-1 div.sk-estimator:hover label.sk-toggleable__label-arrow:before {color: black;}#sk-container-id-1 div.sk-toggleable__content {max-height: 0;max-width: 0;overflow: hidden;text-align: left;background-color: #f0f8ff;}#sk-container-id-1 div.sk-toggleable__content pre {margin: 0.2em;color: black;border-radius: 0.25em;background-color: #f0f8ff;}#sk-container-id-1 input.sk-toggleable__control:checked~div.sk-toggleable__content {max-height: 200px;max-width: 100%;overflow: auto;}#sk-container-id-1 input.sk-toggleable__control:checked~label.sk-toggleable__label-arrow:before {content: \"▾\";}#sk-container-id-1 div.sk-estimator input.sk-toggleable__control:checked~label.sk-toggleable__label {background-color: #d4ebff;}#sk-container-id-1 div.sk-label input.sk-toggleable__control:checked~label.sk-toggleable__label {background-color: #d4ebff;}#sk-container-id-1 input.sk-hidden--visually {border: 0;clip: rect(1px 1px 1px 1px);clip: rect(1px, 1px, 1px, 1px);height: 1px;margin: -1px;overflow: hidden;padding: 0;position: absolute;width: 1px;}#sk-container-id-1 div.sk-estimator {font-family: monospace;background-color: #f0f8ff;border: 1px dotted black;border-radius: 0.25em;box-sizing: border-box;margin-bottom: 0.5em;}#sk-container-id-1 div.sk-estimator:hover {background-color: #d4ebff;}#sk-container-id-1 div.sk-parallel-item::after {content: \"\";width: 100%;border-bottom: 1px solid gray;flex-grow: 1;}#sk-container-id-1 div.sk-label:hover label.sk-toggleable__label {background-color: #d4ebff;}#sk-container-id-1 div.sk-serial::before {content: \"\";position: absolute;border-left: 1px solid gray;box-sizing: border-box;top: 0;bottom: 0;left: 50%;z-index: 0;}#sk-container-id-1 div.sk-serial {display: flex;flex-direction: column;align-items: center;background-color: white;padding-right: 0.2em;padding-left: 0.2em;position: relative;}#sk-container-id-1 div.sk-item {position: relative;z-index: 1;}#sk-container-id-1 div.sk-parallel {display: flex;align-items: stretch;justify-content: center;background-color: white;position: relative;}#sk-container-id-1 div.sk-item::before, #sk-container-id-1 div.sk-parallel-item::before {content: \"\";position: absolute;border-left: 1px solid gray;box-sizing: border-box;top: 0;bottom: 0;left: 50%;z-index: -1;}#sk-container-id-1 div.sk-parallel-item {display: flex;flex-direction: column;z-index: 1;position: relative;background-color: white;}#sk-container-id-1 div.sk-parallel-item:first-child::after {align-self: flex-end;width: 50%;}#sk-container-id-1 div.sk-parallel-item:last-child::after {align-self: flex-start;width: 50%;}#sk-container-id-1 div.sk-parallel-item:only-child::after {width: 0;}#sk-container-id-1 div.sk-dashed-wrapped {border: 1px dashed gray;margin: 0 0.4em 0.5em 0.4em;box-sizing: border-box;padding-bottom: 0.4em;background-color: white;}#sk-container-id-1 div.sk-label label {font-family: monospace;font-weight: bold;display: inline-block;line-height: 1.2em;}#sk-container-id-1 div.sk-label-container {text-align: center;}#sk-container-id-1 div.sk-container {/* jupyter's `normalize.less` sets `[hidden] { display: none; }` but bootstrap.min.css set `[hidden] { display: none !important; }` so we also need the `!important` here to be able to override the default hidden behavior on the sphinx rendered scikit-learn.org. See: https://github.com/scikit-learn/scikit-learn/issues/21755 */display: inline-block !important;position: relative;}#sk-container-id-1 div.sk-text-repr-fallback {display: none;}</style><div id=\"sk-container-id-1\" class=\"sk-top-container\"><div class=\"sk-text-repr-fallback\"><pre>NearestNeighbors(metric=&#x27;cosine&#x27;, n_neighbors=11)</pre><b>In a Jupyter environment, please rerun this cell to show the HTML representation or trust the notebook. <br />On GitHub, the HTML representation is unable to render, please try loading this page with nbviewer.org.</b></div><div class=\"sk-container\" hidden><div class=\"sk-item\"><div class=\"sk-estimator sk-toggleable\"><input class=\"sk-toggleable__control sk-hidden--visually\" id=\"sk-estimator-id-1\" type=\"checkbox\" checked><label for=\"sk-estimator-id-1\" class=\"sk-toggleable__label sk-toggleable__label-arrow\">NearestNeighbors</label><div class=\"sk-toggleable__content\"><pre>NearestNeighbors(metric=&#x27;cosine&#x27;, n_neighbors=11)</pre></div></div></div></div></div>"
      ],
      "text/plain": [
       "NearestNeighbors(metric='cosine', n_neighbors=11)"
      ]
     },
     "execution_count": 31,
     "metadata": {},
     "output_type": "execute_result"
    }
   ],
   "source": [
    "user_KNN = NearestNeighbors(metric='cosine', n_neighbors=11)\n",
    "\n",
    "np_mat = df_user_vectors.values\n",
    "\n",
    "np_mat_norms = np.linalg.norm(np_mat, axis=1)\n",
    "np_mat_normalized = np_mat / np_mat_norms[:, np.newaxis]\n",
    "\n",
    "# use sparse matrix to speed up search\n",
    "user_KNN.fit(csr_matrix(np_mat_normalized))"
   ]
  },
  {
   "cell_type": "code",
   "execution_count": 102,
   "id": "9ce14afe-470f-4e07-9b00-656247b05f34",
   "metadata": {
    "tags": []
   },
   "outputs": [],
   "source": [
    "one_isbn = '0385504209' # The Da Vinci Code by Dan Brown\n",
    "indicies = user_KNN.kneighbors_graph([df_user_vectors.loc[one_isbn]]).indices\n",
    "isbn_list =  df_user_vectors.iloc[indicies].index.tolist()"
   ]
  },
  {
   "cell_type": "code",
   "execution_count": 103,
   "id": "82fa7176-5bdf-4ab5-99a0-af465128b43a",
   "metadata": {
    "tags": []
   },
   "outputs": [
    {
     "data": {
      "text/html": [
       "<div>\n",
       "<style scoped>\n",
       "    .dataframe tbody tr th:only-of-type {\n",
       "        vertical-align: middle;\n",
       "    }\n",
       "\n",
       "    .dataframe tbody tr th {\n",
       "        vertical-align: top;\n",
       "    }\n",
       "\n",
       "    .dataframe thead th {\n",
       "        text-align: right;\n",
       "    }\n",
       "</style>\n",
       "<table border=\"1\" class=\"dataframe\">\n",
       "  <thead>\n",
       "    <tr style=\"text-align: right;\">\n",
       "      <th></th>\n",
       "      <th>ISBN</th>\n",
       "      <th>Book-Title</th>\n",
       "      <th>Book-Author</th>\n",
       "      <th>Year-Of-Publication</th>\n",
       "      <th>Publisher</th>\n",
       "      <th>Image-URL-S</th>\n",
       "      <th>Image-URL-M</th>\n",
       "      <th>Image-URL-L</th>\n",
       "      <th>Summary</th>\n",
       "      <th>Language</th>\n",
       "      <th>Category</th>\n",
       "      <th>BetterSummary</th>\n",
       "    </tr>\n",
       "  </thead>\n",
       "  <tbody>\n",
       "    <tr>\n",
       "      <th>118</th>\n",
       "      <td>0671027360</td>\n",
       "      <td>Angels &amp;amp; Demons</td>\n",
       "      <td>Dan Brown</td>\n",
       "      <td>2001</td>\n",
       "      <td>Pocket Star</td>\n",
       "      <td>http://images.amazon.com/images/P/0671027360.0...</td>\n",
       "      <td>http://images.amazon.com/images/P/0671027360.0...</td>\n",
       "      <td>http://images.amazon.com/images/P/0671027360.0...</td>\n",
       "      <td></td>\n",
       "      <td></td>\n",
       "      <td></td>\n",
       "      <td>NaN</td>\n",
       "    </tr>\n",
       "    <tr>\n",
       "      <th>239</th>\n",
       "      <td>0743486226</td>\n",
       "      <td>Angels &amp;amp; Demons</td>\n",
       "      <td>Dan Brown</td>\n",
       "      <td>2003</td>\n",
       "      <td>Atria</td>\n",
       "      <td>http://images.amazon.com/images/P/0743486226.0...</td>\n",
       "      <td>http://images.amazon.com/images/P/0743486226.0...</td>\n",
       "      <td>http://images.amazon.com/images/P/0743486226.0...</td>\n",
       "      <td></td>\n",
       "      <td></td>\n",
       "      <td></td>\n",
       "      <td>NaN</td>\n",
       "    </tr>\n",
       "    <tr>\n",
       "      <th>356</th>\n",
       "      <td>0142001740</td>\n",
       "      <td>The Secret Life of Bees</td>\n",
       "      <td>Sue Monk Kidd</td>\n",
       "      <td>2003</td>\n",
       "      <td>Penguin Books</td>\n",
       "      <td>http://images.amazon.com/images/P/0142001740.0...</td>\n",
       "      <td>http://images.amazon.com/images/P/0142001740.0...</td>\n",
       "      <td>http://images.amazon.com/images/P/0142001740.0...</td>\n",
       "      <td>After her &amp;quot;stand-in mother,&amp;quot; a bold ...</td>\n",
       "      <td>en</td>\n",
       "      <td>['Fiction']</td>\n",
       "      <td>The Secret Life of Bees, Sue Monk Kidd, 2003, ...</td>\n",
       "    </tr>\n",
       "    <tr>\n",
       "      <th>408</th>\n",
       "      <td>0316666343</td>\n",
       "      <td>The Lovely Bones: A Novel</td>\n",
       "      <td>Alice Sebold</td>\n",
       "      <td>2002</td>\n",
       "      <td>Little, Brown</td>\n",
       "      <td>http://images.amazon.com/images/P/0316666343.0...</td>\n",
       "      <td>http://images.amazon.com/images/P/0316666343.0...</td>\n",
       "      <td>http://images.amazon.com/images/P/0316666343.0...</td>\n",
       "      <td></td>\n",
       "      <td></td>\n",
       "      <td></td>\n",
       "      <td>NaN</td>\n",
       "    </tr>\n",
       "    <tr>\n",
       "      <th>748</th>\n",
       "      <td>0385504209</td>\n",
       "      <td>The Da Vinci Code</td>\n",
       "      <td>Dan Brown</td>\n",
       "      <td>2003</td>\n",
       "      <td>Doubleday</td>\n",
       "      <td>http://images.amazon.com/images/P/0385504209.0...</td>\n",
       "      <td>http://images.amazon.com/images/P/0385504209.0...</td>\n",
       "      <td>http://images.amazon.com/images/P/0385504209.0...</td>\n",
       "      <td>Harvard symbologist Robert Langdon and French ...</td>\n",
       "      <td>en</td>\n",
       "      <td>['Fiction']</td>\n",
       "      <td>The Da Vinci Code, Dan Brown, 2003, Doubleday,...</td>\n",
       "    </tr>\n",
       "  </tbody>\n",
       "</table>\n",
       "</div>"
      ],
      "text/plain": [
       "           ISBN                 Book-Title    Book-Author  \\\n",
       "118  0671027360        Angels &amp; Demons      Dan Brown   \n",
       "239  0743486226        Angels &amp; Demons      Dan Brown   \n",
       "356  0142001740    The Secret Life of Bees  Sue Monk Kidd   \n",
       "408  0316666343  The Lovely Bones: A Novel   Alice Sebold   \n",
       "748  0385504209          The Da Vinci Code      Dan Brown   \n",
       "\n",
       "     Year-Of-Publication      Publisher  \\\n",
       "118                 2001    Pocket Star   \n",
       "239                 2003          Atria   \n",
       "356                 2003  Penguin Books   \n",
       "408                 2002  Little, Brown   \n",
       "748                 2003      Doubleday   \n",
       "\n",
       "                                           Image-URL-S  \\\n",
       "118  http://images.amazon.com/images/P/0671027360.0...   \n",
       "239  http://images.amazon.com/images/P/0743486226.0...   \n",
       "356  http://images.amazon.com/images/P/0142001740.0...   \n",
       "408  http://images.amazon.com/images/P/0316666343.0...   \n",
       "748  http://images.amazon.com/images/P/0385504209.0...   \n",
       "\n",
       "                                           Image-URL-M  \\\n",
       "118  http://images.amazon.com/images/P/0671027360.0...   \n",
       "239  http://images.amazon.com/images/P/0743486226.0...   \n",
       "356  http://images.amazon.com/images/P/0142001740.0...   \n",
       "408  http://images.amazon.com/images/P/0316666343.0...   \n",
       "748  http://images.amazon.com/images/P/0385504209.0...   \n",
       "\n",
       "                                           Image-URL-L  \\\n",
       "118  http://images.amazon.com/images/P/0671027360.0...   \n",
       "239  http://images.amazon.com/images/P/0743486226.0...   \n",
       "356  http://images.amazon.com/images/P/0142001740.0...   \n",
       "408  http://images.amazon.com/images/P/0316666343.0...   \n",
       "748  http://images.amazon.com/images/P/0385504209.0...   \n",
       "\n",
       "                                               Summary Language     Category  \\\n",
       "118                                                                            \n",
       "239                                                                            \n",
       "356  After her &quot;stand-in mother,&quot; a bold ...       en  ['Fiction']   \n",
       "408                                                                            \n",
       "748  Harvard symbologist Robert Langdon and French ...       en  ['Fiction']   \n",
       "\n",
       "                                         BetterSummary  \n",
       "118                                                NaN  \n",
       "239                                                NaN  \n",
       "356  The Secret Life of Bees, Sue Monk Kidd, 2003, ...  \n",
       "408                                                NaN  \n",
       "748  The Da Vinci Code, Dan Brown, 2003, Doubleday,...  "
      ]
     },
     "execution_count": 103,
     "metadata": {},
     "output_type": "execute_result"
    }
   ],
   "source": [
    "df_books[df_books['ISBN'].isin(isbn_list)].head(5)"
   ]
  },
  {
   "cell_type": "code",
   "execution_count": 35,
   "id": "55ba48d8-e715-4ab4-aa42-bb55ae89057d",
   "metadata": {},
   "outputs": [],
   "source": [
    "def user_recomendation(isbn: str):\n",
    "    \"\"\"\n",
    "    Returns 10 books recomendations based on the user vectors.\n",
    "\n",
    "    Parameters\n",
    "    ----------\n",
    "    isbn : string\n",
    "        valid isbn\n",
    "    \"\"\"\n",
    "    if isbn not in df_user_vectors.index:\n",
    "        print(f\"{isbn} is not present in our database or is not valid.\")\n",
    "        return\n",
    "\n",
    "    book_row = df_books[df_books['ISBN'] == isbn]\n",
    "    book_user_vector = df_user_vectors.loc[isbn]\n",
    "\n",
    "    similar_indicies = user_KNN.kneighbors_graph([df_user_vectors.loc[isbn]]).indices\n",
    "    isbn_list = df_user_vectors.iloc[similar_indicies].index.tolist()\n",
    "    similar_books = df_books[df_books['ISBN'].isin(isbn_list)]\n",
    "\n",
    "    print(f'Since you liked: {book_row[\"Book-Title\"].iloc[0]}.')\n",
    "    print('We recomend you take a look a the following books: \\n')\n",
    "    for _, row in similar_books.iterrows():\n",
    "        print(f'{row[\"Book-Title\"]} by {row[\"Book-Author\"]}')"
   ]
  },
  {
   "cell_type": "code",
   "execution_count": 110,
   "id": "48d69f08-339b-42be-b25b-b51e4facefde",
   "metadata": {},
   "outputs": [
    {
     "name": "stdout",
     "output_type": "stream",
     "text": [
      "Since you liked: The Da Vinci Code.\n",
      "We recomend you take a look a the following books: \n",
      "\n",
      "Angels &amp; Demons by Dan Brown\n",
      "Angels &amp; Demons by Dan Brown\n",
      "The Secret Life of Bees by Sue Monk Kidd\n",
      "The Lovely Bones: A Novel by Alice Sebold\n",
      "The Da Vinci Code by Dan Brown\n",
      "Nights in Rodanthe by Nicholas Sparks\n",
      "The Conspiracy Club by JONATHAN KELLERMAN\n",
      "Street Dreams by Faye Kellerman\n",
      "Middlesex: A Novel by Jeffrey Eugenides\n",
      "The Cat Who Talked Turkey by Lilian Jackson Braun\n",
      "Cyanide Wells by Marcia Muller\n",
      "\n",
      " Search time: 0.03 seconds\n"
     ]
    }
   ],
   "source": [
    "t = time()\n",
    "user_recomendation('0385504209')\n",
    "print(f'\\n Search time: {round((time() - t), 2)} seconds')"
   ]
  },
  {
   "cell_type": "markdown",
   "id": "46febeea-2ad8-4389-bbfa-4c6b9177e141",
   "metadata": {},
   "source": [
    "### Tranformers"
   ]
  },
  {
   "cell_type": "code",
   "execution_count": 37,
   "id": "386cbf92-8e19-4ea9-9873-f60ec8e9c123",
   "metadata": {
    "tags": []
   },
   "outputs": [],
   "source": [
    "df_bert_books = df_books.loc[df_books['Summary'].str.len() > 2]"
   ]
  },
  {
   "cell_type": "code",
   "execution_count": 38,
   "id": "261d303a-926d-43d6-83a1-f61687c39d48",
   "metadata": {
    "tags": []
   },
   "outputs": [],
   "source": [
    "df_bert_books.reset_index(inplace=True)"
   ]
  },
  {
   "cell_type": "code",
   "execution_count": 39,
   "id": "5b75acf4-5291-440d-bb63-cb97556584f7",
   "metadata": {
    "tags": []
   },
   "outputs": [
    {
     "data": {
      "text/plain": [
       "(141960, 13)"
      ]
     },
     "execution_count": 39,
     "metadata": {},
     "output_type": "execute_result"
    }
   ],
   "source": [
    "df_bert_books.shape"
   ]
  },
  {
   "cell_type": "code",
   "execution_count": 40,
   "id": "86f272a0-d39f-420d-a319-2f6951ac2575",
   "metadata": {
    "tags": []
   },
   "outputs": [],
   "source": [
    "model = SentenceTransformer('all-mpnet-base-v2')\n",
    "\n",
    "def encode_sentence(text):\n",
    "    return model.encode(text)"
   ]
  },
  {
   "cell_type": "code",
   "execution_count": 41,
   "id": "c18680f3-e4b7-433e-9953-c97f4218014f",
   "metadata": {
    "tags": []
   },
   "outputs": [
    {
     "data": {
      "text/plain": [
       "(141960,)"
      ]
     },
     "execution_count": 41,
     "metadata": {},
     "output_type": "execute_result"
    }
   ],
   "source": [
    "to_encode = df_bert_books['BetterSummary']\n",
    "to_encode.shape"
   ]
  },
  {
   "cell_type": "code",
   "execution_count": 42,
   "id": "af7440f1-8d4d-48a7-89e9-806a84d98963",
   "metadata": {
    "tags": []
   },
   "outputs": [],
   "source": [
    "bert_vectors = np.load(f'./bert_books_embeddings_better.npy')"
   ]
  },
  {
   "cell_type": "code",
   "execution_count": 43,
   "id": "f0cdc0fc-848c-4170-ac56-ae476d5d10ec",
   "metadata": {
    "tags": []
   },
   "outputs": [
    {
     "name": "stdout",
     "output_type": "stream",
     "text": [
      "Started encoding\n",
      "\n",
      " Time to encode: 0.0 seconds\n"
     ]
    }
   ],
   "source": [
    "t = time()\n",
    "\n",
    "print('Started encoding')\n",
    "# bert_vectors = np.array(to_encode.apply(encode_sentence).tolist())\n",
    "\n",
    "print(f'\\n Time to encode: {round((time() - t), 2)} seconds')"
   ]
  },
  {
   "cell_type": "code",
   "execution_count": 44,
   "id": "8f39923f-11df-4876-ab23-845728d34498",
   "metadata": {
    "tags": []
   },
   "outputs": [],
   "source": [
    " # np.save(f'./bert_books_embeddings_better_all', bert_vectors)"
   ]
  },
  {
   "cell_type": "code",
   "execution_count": 45,
   "id": "22d1d032-8f48-4297-8434-3457eec93e07",
   "metadata": {
    "tags": []
   },
   "outputs": [
    {
     "data": {
      "text/html": [
       "<style>#sk-container-id-2 {color: black;background-color: white;}#sk-container-id-2 pre{padding: 0;}#sk-container-id-2 div.sk-toggleable {background-color: white;}#sk-container-id-2 label.sk-toggleable__label {cursor: pointer;display: block;width: 100%;margin-bottom: 0;padding: 0.3em;box-sizing: border-box;text-align: center;}#sk-container-id-2 label.sk-toggleable__label-arrow:before {content: \"▸\";float: left;margin-right: 0.25em;color: #696969;}#sk-container-id-2 label.sk-toggleable__label-arrow:hover:before {color: black;}#sk-container-id-2 div.sk-estimator:hover label.sk-toggleable__label-arrow:before {color: black;}#sk-container-id-2 div.sk-toggleable__content {max-height: 0;max-width: 0;overflow: hidden;text-align: left;background-color: #f0f8ff;}#sk-container-id-2 div.sk-toggleable__content pre {margin: 0.2em;color: black;border-radius: 0.25em;background-color: #f0f8ff;}#sk-container-id-2 input.sk-toggleable__control:checked~div.sk-toggleable__content {max-height: 200px;max-width: 100%;overflow: auto;}#sk-container-id-2 input.sk-toggleable__control:checked~label.sk-toggleable__label-arrow:before {content: \"▾\";}#sk-container-id-2 div.sk-estimator input.sk-toggleable__control:checked~label.sk-toggleable__label {background-color: #d4ebff;}#sk-container-id-2 div.sk-label input.sk-toggleable__control:checked~label.sk-toggleable__label {background-color: #d4ebff;}#sk-container-id-2 input.sk-hidden--visually {border: 0;clip: rect(1px 1px 1px 1px);clip: rect(1px, 1px, 1px, 1px);height: 1px;margin: -1px;overflow: hidden;padding: 0;position: absolute;width: 1px;}#sk-container-id-2 div.sk-estimator {font-family: monospace;background-color: #f0f8ff;border: 1px dotted black;border-radius: 0.25em;box-sizing: border-box;margin-bottom: 0.5em;}#sk-container-id-2 div.sk-estimator:hover {background-color: #d4ebff;}#sk-container-id-2 div.sk-parallel-item::after {content: \"\";width: 100%;border-bottom: 1px solid gray;flex-grow: 1;}#sk-container-id-2 div.sk-label:hover label.sk-toggleable__label {background-color: #d4ebff;}#sk-container-id-2 div.sk-serial::before {content: \"\";position: absolute;border-left: 1px solid gray;box-sizing: border-box;top: 0;bottom: 0;left: 50%;z-index: 0;}#sk-container-id-2 div.sk-serial {display: flex;flex-direction: column;align-items: center;background-color: white;padding-right: 0.2em;padding-left: 0.2em;position: relative;}#sk-container-id-2 div.sk-item {position: relative;z-index: 1;}#sk-container-id-2 div.sk-parallel {display: flex;align-items: stretch;justify-content: center;background-color: white;position: relative;}#sk-container-id-2 div.sk-item::before, #sk-container-id-2 div.sk-parallel-item::before {content: \"\";position: absolute;border-left: 1px solid gray;box-sizing: border-box;top: 0;bottom: 0;left: 50%;z-index: -1;}#sk-container-id-2 div.sk-parallel-item {display: flex;flex-direction: column;z-index: 1;position: relative;background-color: white;}#sk-container-id-2 div.sk-parallel-item:first-child::after {align-self: flex-end;width: 50%;}#sk-container-id-2 div.sk-parallel-item:last-child::after {align-self: flex-start;width: 50%;}#sk-container-id-2 div.sk-parallel-item:only-child::after {width: 0;}#sk-container-id-2 div.sk-dashed-wrapped {border: 1px dashed gray;margin: 0 0.4em 0.5em 0.4em;box-sizing: border-box;padding-bottom: 0.4em;background-color: white;}#sk-container-id-2 div.sk-label label {font-family: monospace;font-weight: bold;display: inline-block;line-height: 1.2em;}#sk-container-id-2 div.sk-label-container {text-align: center;}#sk-container-id-2 div.sk-container {/* jupyter's `normalize.less` sets `[hidden] { display: none; }` but bootstrap.min.css set `[hidden] { display: none !important; }` so we also need the `!important` here to be able to override the default hidden behavior on the sphinx rendered scikit-learn.org. See: https://github.com/scikit-learn/scikit-learn/issues/21755 */display: inline-block !important;position: relative;}#sk-container-id-2 div.sk-text-repr-fallback {display: none;}</style><div id=\"sk-container-id-2\" class=\"sk-top-container\"><div class=\"sk-text-repr-fallback\"><pre>NearestNeighbors(metric=&#x27;cosine&#x27;, n_neighbors=11)</pre><b>In a Jupyter environment, please rerun this cell to show the HTML representation or trust the notebook. <br />On GitHub, the HTML representation is unable to render, please try loading this page with nbviewer.org.</b></div><div class=\"sk-container\" hidden><div class=\"sk-item\"><div class=\"sk-estimator sk-toggleable\"><input class=\"sk-toggleable__control sk-hidden--visually\" id=\"sk-estimator-id-2\" type=\"checkbox\" checked><label for=\"sk-estimator-id-2\" class=\"sk-toggleable__label sk-toggleable__label-arrow\">NearestNeighbors</label><div class=\"sk-toggleable__content\"><pre>NearestNeighbors(metric=&#x27;cosine&#x27;, n_neighbors=11)</pre></div></div></div></div></div>"
      ],
      "text/plain": [
       "NearestNeighbors(metric='cosine', n_neighbors=11)"
      ]
     },
     "execution_count": 45,
     "metadata": {},
     "output_type": "execute_result"
    }
   ],
   "source": [
    "BERT_KNN = NearestNeighbors(metric='cosine', n_neighbors=11)\n",
    "\n",
    "# use sparse matrix to speed up search\n",
    "BERT_KNN.fit(bert_vectors)"
   ]
  },
  {
   "cell_type": "code",
   "execution_count": 114,
   "id": "a5519bd3-3105-482d-8ad5-c933e6048f83",
   "metadata": {
    "tags": []
   },
   "outputs": [],
   "source": [
    "bert_one_isbn = '0553573403' # A Game of Thrones\n",
    "book_index = df_bert_books.loc[df_bert_books['ISBN'] == bert_one_isbn].index[0]\n",
    "bert_indicies = BERT_KNN.kneighbors_graph([bert_vectors[book_index]]).indices\n",
    "bert_isbn_list =  df_bert_books.iloc[bert_indicies]['ISBN'].tolist()"
   ]
  },
  {
   "cell_type": "code",
   "execution_count": 115,
   "id": "00575897-a4f9-4b7b-a9b3-05658b08e082",
   "metadata": {
    "tags": []
   },
   "outputs": [
    {
     "data": {
      "text/html": [
       "<div>\n",
       "<style scoped>\n",
       "    .dataframe tbody tr th:only-of-type {\n",
       "        vertical-align: middle;\n",
       "    }\n",
       "\n",
       "    .dataframe tbody tr th {\n",
       "        vertical-align: top;\n",
       "    }\n",
       "\n",
       "    .dataframe thead th {\n",
       "        text-align: right;\n",
       "    }\n",
       "</style>\n",
       "<table border=\"1\" class=\"dataframe\">\n",
       "  <thead>\n",
       "    <tr style=\"text-align: right;\">\n",
       "      <th></th>\n",
       "      <th>index</th>\n",
       "      <th>ISBN</th>\n",
       "      <th>Book-Title</th>\n",
       "      <th>Book-Author</th>\n",
       "      <th>Year-Of-Publication</th>\n",
       "      <th>Publisher</th>\n",
       "      <th>Image-URL-S</th>\n",
       "      <th>Image-URL-M</th>\n",
       "      <th>Image-URL-L</th>\n",
       "      <th>Summary</th>\n",
       "      <th>Language</th>\n",
       "      <th>Category</th>\n",
       "      <th>BetterSummary</th>\n",
       "    </tr>\n",
       "  </thead>\n",
       "  <tbody>\n",
       "    <tr>\n",
       "      <th>88</th>\n",
       "      <td>128</td>\n",
       "      <td>0840734530</td>\n",
       "      <td>The Oneprince (The Redaemian Chronicles, Book 1)</td>\n",
       "      <td>Bill Hand</td>\n",
       "      <td>1992</td>\n",
       "      <td>Thomas Nelson Inc</td>\n",
       "      <td>http://images.amazon.com/images/P/0840734530.0...</td>\n",
       "      <td>http://images.amazon.com/images/P/0840734530.0...</td>\n",
       "      <td>http://images.amazon.com/images/P/0840734530.0...</td>\n",
       "      <td>This enchanting work of fantasy leads readers ...</td>\n",
       "      <td>en</td>\n",
       "      <td>['Fiction']</td>\n",
       "      <td>The Oneprince (The Redaemian Chronicles, Book ...</td>\n",
       "    </tr>\n",
       "    <tr>\n",
       "      <th>2791</th>\n",
       "      <td>4713</td>\n",
       "      <td>0553573403</td>\n",
       "      <td>A Game of Thrones (A Song of Ice and Fire, Boo...</td>\n",
       "      <td>George R.R. Martin</td>\n",
       "      <td>1997</td>\n",
       "      <td>Spectra Books</td>\n",
       "      <td>http://images.amazon.com/images/P/0553573403.0...</td>\n",
       "      <td>http://images.amazon.com/images/P/0553573403.0...</td>\n",
       "      <td>http://images.amazon.com/images/P/0553573403.0...</td>\n",
       "      <td>NOW THE ACCLAIMED HBO SERIES GAME OF THRONESFr...</td>\n",
       "      <td>en</td>\n",
       "      <td>['Fiction']</td>\n",
       "      <td>A Game of Thrones (A Song of Ice and Fire, Boo...</td>\n",
       "    </tr>\n",
       "    <tr>\n",
       "      <th>2793</th>\n",
       "      <td>4715</td>\n",
       "      <td>055357342X</td>\n",
       "      <td>A Storm of Swords (A Song of Ice and Fire, Boo...</td>\n",
       "      <td>GEORGE R.R. MARTIN</td>\n",
       "      <td>2003</td>\n",
       "      <td>Spectra</td>\n",
       "      <td>http://images.amazon.com/images/P/055357342X.0...</td>\n",
       "      <td>http://images.amazon.com/images/P/055357342X.0...</td>\n",
       "      <td>http://images.amazon.com/images/P/055357342X.0...</td>\n",
       "      <td>Here is the Third Volume in George R. R. Marti...</td>\n",
       "      <td>en</td>\n",
       "      <td>['Fiction']</td>\n",
       "      <td>A Storm of Swords (A Song of Ice and Fire, Boo...</td>\n",
       "    </tr>\n",
       "    <tr>\n",
       "      <th>7297</th>\n",
       "      <td>12739</td>\n",
       "      <td>0679879250</td>\n",
       "      <td>The Subtle Knife (His Dark Materials, Book 2)</td>\n",
       "      <td>Philip Pullman</td>\n",
       "      <td>1997</td>\n",
       "      <td>Alfred A. Knopf</td>\n",
       "      <td>http://images.amazon.com/images/P/0679879250.0...</td>\n",
       "      <td>http://images.amazon.com/images/P/0679879250.0...</td>\n",
       "      <td>http://images.amazon.com/images/P/0679879250.0...</td>\n",
       "      <td>Here is the highly anticipated second installm...</td>\n",
       "      <td>en</td>\n",
       "      <td>['Juvenile Fiction']</td>\n",
       "      <td>The Subtle Knife (His Dark Materials, Book 2),...</td>\n",
       "    </tr>\n",
       "    <tr>\n",
       "      <th>8288</th>\n",
       "      <td>14410</td>\n",
       "      <td>0553381709</td>\n",
       "      <td>A Storm of Swords : Song of Ice and Fire, Volu...</td>\n",
       "      <td>GEORGE R.R. MARTIN</td>\n",
       "      <td>2002</td>\n",
       "      <td>Spectra</td>\n",
       "      <td>http://images.amazon.com/images/P/0553381709.0...</td>\n",
       "      <td>http://images.amazon.com/images/P/0553381709.0...</td>\n",
       "      <td>http://images.amazon.com/images/P/0553381709.0...</td>\n",
       "      <td>The three surviving contenders for the throne ...</td>\n",
       "      <td>en</td>\n",
       "      <td>['Fiction']</td>\n",
       "      <td>A Storm of Swords : Song of Ice and Fire, Volu...</td>\n",
       "    </tr>\n",
       "  </tbody>\n",
       "</table>\n",
       "</div>"
      ],
      "text/plain": [
       "      index        ISBN                                         Book-Title  \\\n",
       "88      128  0840734530   The Oneprince (The Redaemian Chronicles, Book 1)   \n",
       "2791   4713  0553573403  A Game of Thrones (A Song of Ice and Fire, Boo...   \n",
       "2793   4715  055357342X  A Storm of Swords (A Song of Ice and Fire, Boo...   \n",
       "7297  12739  0679879250      The Subtle Knife (His Dark Materials, Book 2)   \n",
       "8288  14410  0553381709  A Storm of Swords : Song of Ice and Fire, Volu...   \n",
       "\n",
       "             Book-Author  Year-Of-Publication          Publisher  \\\n",
       "88             Bill Hand                 1992  Thomas Nelson Inc   \n",
       "2791  George R.R. Martin                 1997      Spectra Books   \n",
       "2793  GEORGE R.R. MARTIN                 2003            Spectra   \n",
       "7297      Philip Pullman                 1997    Alfred A. Knopf   \n",
       "8288  GEORGE R.R. MARTIN                 2002            Spectra   \n",
       "\n",
       "                                            Image-URL-S  \\\n",
       "88    http://images.amazon.com/images/P/0840734530.0...   \n",
       "2791  http://images.amazon.com/images/P/0553573403.0...   \n",
       "2793  http://images.amazon.com/images/P/055357342X.0...   \n",
       "7297  http://images.amazon.com/images/P/0679879250.0...   \n",
       "8288  http://images.amazon.com/images/P/0553381709.0...   \n",
       "\n",
       "                                            Image-URL-M  \\\n",
       "88    http://images.amazon.com/images/P/0840734530.0...   \n",
       "2791  http://images.amazon.com/images/P/0553573403.0...   \n",
       "2793  http://images.amazon.com/images/P/055357342X.0...   \n",
       "7297  http://images.amazon.com/images/P/0679879250.0...   \n",
       "8288  http://images.amazon.com/images/P/0553381709.0...   \n",
       "\n",
       "                                            Image-URL-L  \\\n",
       "88    http://images.amazon.com/images/P/0840734530.0...   \n",
       "2791  http://images.amazon.com/images/P/0553573403.0...   \n",
       "2793  http://images.amazon.com/images/P/055357342X.0...   \n",
       "7297  http://images.amazon.com/images/P/0679879250.0...   \n",
       "8288  http://images.amazon.com/images/P/0553381709.0...   \n",
       "\n",
       "                                                Summary Language  \\\n",
       "88    This enchanting work of fantasy leads readers ...       en   \n",
       "2791  NOW THE ACCLAIMED HBO SERIES GAME OF THRONESFr...       en   \n",
       "2793  Here is the Third Volume in George R. R. Marti...       en   \n",
       "7297  Here is the highly anticipated second installm...       en   \n",
       "8288  The three surviving contenders for the throne ...       en   \n",
       "\n",
       "                  Category                                      BetterSummary  \n",
       "88             ['Fiction']  The Oneprince (The Redaemian Chronicles, Book ...  \n",
       "2791           ['Fiction']  A Game of Thrones (A Song of Ice and Fire, Boo...  \n",
       "2793           ['Fiction']  A Storm of Swords (A Song of Ice and Fire, Boo...  \n",
       "7297  ['Juvenile Fiction']  The Subtle Knife (His Dark Materials, Book 2),...  \n",
       "8288           ['Fiction']  A Storm of Swords : Song of Ice and Fire, Volu...  "
      ]
     },
     "execution_count": 115,
     "metadata": {},
     "output_type": "execute_result"
    }
   ],
   "source": [
    "df_bert_books[df_bert_books['ISBN'].isin(bert_isbn_list)].head(5)"
   ]
  },
  {
   "cell_type": "code",
   "execution_count": 107,
   "id": "a694c2a5-d8c9-4d16-a756-ff72088757f5",
   "metadata": {
    "tags": []
   },
   "outputs": [],
   "source": [
    "def transformer_recomendation(isbn: str):\n",
    "    \"\"\"\n",
    "    Returns 10 books recomendations based on the user vectors.\n",
    "\n",
    "    Parameters\n",
    "    ----------\n",
    "    isbn : string\n",
    "        valid isbn\n",
    "    \"\"\"\n",
    "    if not (df_bert_books['ISBN'].eq(isbn)).any():\n",
    "        print(f\"{isbn} is not present in our database or is not valid.\")\n",
    "        return\n",
    "    book_row = df_bert_books.loc[df_bert_books['ISBN'] == isbn]\n",
    "    book_index = book_row.index[0]\n",
    "\n",
    "    similar_indicies = BERT_KNN.kneighbors_graph([bert_vectors[book_index]]).indices\n",
    "    similar_isbn_list =  df_bert_books.iloc[similar_indicies]['ISBN'].tolist()\n",
    "    similar_books = df_bert_books[df_bert_books['ISBN'].isin(similar_isbn_list)]\n",
    "    \n",
    "    print(f'Since you liked: {book_row[\"Book-Title\"].iloc[0]}.')\n",
    "    print('We recomend you take a look a the following books: \\n')\n",
    "    for _, row in similar_books.iterrows():\n",
    "        print(f'{row[\"Book-Title\"]} by {row[\"Book-Author\"]}')"
   ]
  },
  {
   "cell_type": "code",
   "execution_count": 123,
   "id": "40d320f0-d7fa-447e-b916-c7861a22485f",
   "metadata": {
    "tags": []
   },
   "outputs": [
    {
     "name": "stdout",
     "output_type": "stream",
     "text": [
      "Since you liked: A Game of Thrones (A Song of Ice and Fire, Book 1).\n",
      "We recomend you take a look a the following books: \n",
      "\n",
      "The Oneprince (The Redaemian Chronicles, Book 1) by Bill Hand\n",
      "A Game of Thrones (A Song of Ice and Fire, Book 1) by George R.R. Martin\n",
      "A Storm of Swords (A Song of Ice and Fire, Book 3) by GEORGE R.R. MARTIN\n",
      "The Subtle Knife (His Dark Materials, Book 2) by Philip Pullman\n",
      "A Storm of Swords : Song of Ice and Fire, Volume 3 (A Song of Ice and Fire, Book 3) by GEORGE R.R. MARTIN\n",
      "Guardians of the West (Book 1 of the Malloreon) by David Eddings\n",
      "A Storm of Swords (A Song of Ice and Fire, Book 3) by George R. R. Martin\n",
      "A Clash of Kings (A Song of Ice and Fire, Book 2) by GEORGE R.R. MARTIN\n",
      "The Sundered Arms (Dungeons &amp; Dragons Novel) by T. H. Lain\n",
      "Revelations by Douglas E. Winter\n",
      "A Game of Thrones (A Song of Ice and Fire, Book 1) by George R. R. Martin\n",
      "\n",
      " Search time: 0.34 seconds\n"
     ]
    }
   ],
   "source": [
    "t = time()\n",
    "transformer_recomendation('0553573403')\n",
    "print(f'\\n Search time: {round((time() - t), 2)} seconds')"
   ]
  },
  {
   "cell_type": "markdown",
   "id": "f851fa3d-1fbd-4b56-97e4-ac2100138363",
   "metadata": {},
   "source": [
    "### Export Data For Application"
   ]
  },
  {
   "cell_type": "markdown",
   "id": "e0bb4432-c794-4327-a27d-002f228b8a0f",
   "metadata": {},
   "source": [
    "Bert vectors exports"
   ]
  },
  {
   "cell_type": "code",
   "execution_count": 80,
   "id": "cc893ae7-a6ae-4481-9234-a13ab826c2c8",
   "metadata": {},
   "outputs": [
    {
     "name": "stdout",
     "output_type": "stream",
     "text": [
      "pine_vecs length 141960\n",
      "\n",
      " Time to export BERT vectors: 187.99 seconds\n"
     ]
    }
   ],
   "source": [
    "import json\n",
    "\n",
    "pine_vecs = []\n",
    "\n",
    "t = time()\n",
    "for index in range(len(df_bert_books.index)):\n",
    "    pine_vecs.append({\n",
    "      \"id\": df_bert_books.iloc[index][\"ISBN\"],\n",
    "      \"metadata\": {\n",
    "        \"title\": df_bert_books.iloc[index][\"Book-Title\"],\n",
    "        \"author\": df_bert_books.iloc[index][\"Book-Author\"],\n",
    "        \"image\": df_bert_books.iloc[index][\"Image-URL-L\"]\n",
    "      },\n",
    "      \"values\": bert_vectors[index].tolist()\n",
    "    })\n",
    "\n",
    "print('pine_vecs length', len(pine_vecs))\n",
    "with open(f'./bert_upsert.json', 'w') as f:\n",
    "    json.dump(pine_vecs, f)\n",
    "    \n",
    "print(f'\\n Time to export BERT vectors: {round((time() - t), 2)} seconds')"
   ]
  },
  {
   "cell_type": "code",
   "execution_count": 85,
   "id": "fb1c6f1b-3bd0-44d8-b2d8-4e0d2f21eb8e",
   "metadata": {
    "tags": []
   },
   "outputs": [],
   "source": [
    "df_bert_books_to_index = df_bert_books.sort_values(by='BetterSummary', key=lambda x: x.str.len(), ascending=False)"
   ]
  },
  {
   "cell_type": "code",
   "execution_count": 131,
   "id": "9ea894f5-43c0-4d15-a77e-a4e123eb4843",
   "metadata": {
    "tags": []
   },
   "outputs": [
    {
     "data": {
      "text/plain": [
       "\"Storybook Travels : From Eloise's New York to Harry Potter's London, Visits to 30 of the Best-LovedLandmarks in Children's Literature\""
      ]
     },
     "execution_count": 131,
     "metadata": {},
     "output_type": "execute_result"
    }
   ],
   "source": [
    "df_bert_books_to_index[\"Book-Title\"].to_numpy().tolist()[171]"
   ]
  },
  {
   "cell_type": "code",
   "execution_count": 129,
   "id": "6c3f9ecd-5633-4341-a9b1-cf3fbc7f0944",
   "metadata": {
    "tags": []
   },
   "outputs": [
    {
     "data": {
      "text/plain": [
       "'068483619X'"
      ]
     },
     "execution_count": 129,
     "metadata": {},
     "output_type": "execute_result"
    }
   ],
   "source": [
    "df_bert_books_to_index[\"ISBN\"].to_numpy().tolist()[0]"
   ]
  },
  {
   "cell_type": "code",
   "execution_count": 86,
   "id": "25cd5fc8-7dca-470a-9423-b4140072e40e",
   "metadata": {
    "tags": []
   },
   "outputs": [],
   "source": [
    "name_isbn_be = {\n",
    "    \"book_isbn\": df_bert_books_to_index[\"ISBN\"].to_numpy().tolist(),\n",
    "    \"book_title\": df_bert_books_to_index[\"Book-Title\"].to_numpy().tolist(),\n",
    "}\n",
    "\n",
    "with open('./books_index.json', 'w') as f:\n",
    "    json.dump(name_isbn_be, f)"
   ]
  },
  {
   "cell_type": "markdown",
   "id": "6f32d7f6-bf61-4839-bb76-94c2f050668c",
   "metadata": {},
   "source": [
    "### Testing"
   ]
  },
  {
   "cell_type": "markdown",
   "id": "9af4dd25-7e05-4ecf-be3f-2bdaa4928b14",
   "metadata": {},
   "source": [
    "Seach by Title"
   ]
  },
  {
   "cell_type": "code",
   "execution_count": 121,
   "id": "99e047ac-8b3d-4952-875a-73c47088d830",
   "metadata": {
    "tags": []
   },
   "outputs": [
    {
     "data": {
      "text/plain": [
       "'0345339703'"
      ]
     },
     "execution_count": 121,
     "metadata": {},
     "output_type": "execute_result"
    }
   ],
   "source": [
    "df_books[df_books['Book-Title'].str.contains('The Fellowship of the Ring')].iloc[0]['ISBN']"
   ]
  },
  {
   "cell_type": "code",
   "execution_count": 130,
   "id": "c4edb1c1-d31e-4599-97c9-fbbbd010834d",
   "metadata": {
    "tags": []
   },
   "outputs": [
    {
     "data": {
      "text/html": [
       "<div>\n",
       "<style scoped>\n",
       "    .dataframe tbody tr th:only-of-type {\n",
       "        vertical-align: middle;\n",
       "    }\n",
       "\n",
       "    .dataframe tbody tr th {\n",
       "        vertical-align: top;\n",
       "    }\n",
       "\n",
       "    .dataframe thead th {\n",
       "        text-align: right;\n",
       "    }\n",
       "</style>\n",
       "<table border=\"1\" class=\"dataframe\">\n",
       "  <thead>\n",
       "    <tr style=\"text-align: right;\">\n",
       "      <th></th>\n",
       "      <th>index</th>\n",
       "      <th>ISBN</th>\n",
       "      <th>Book-Title</th>\n",
       "      <th>Book-Author</th>\n",
       "      <th>Year-Of-Publication</th>\n",
       "      <th>Publisher</th>\n",
       "      <th>Image-URL-S</th>\n",
       "      <th>Image-URL-M</th>\n",
       "      <th>Image-URL-L</th>\n",
       "      <th>Summary</th>\n",
       "      <th>Language</th>\n",
       "      <th>Category</th>\n",
       "      <th>BetterSummary</th>\n",
       "    </tr>\n",
       "  </thead>\n",
       "  <tbody>\n",
       "    <tr>\n",
       "      <th>60759</th>\n",
       "      <td>108648</td>\n",
       "      <td>068483619X</td>\n",
       "      <td>Sam Spiegel: The Incredible Life and Times of ...</td>\n",
       "      <td>Natasha Fraser-Cavassoni</td>\n",
       "      <td>2003</td>\n",
       "      <td>Simon &amp;amp; Schuster</td>\n",
       "      <td>http://images.amazon.com/images/P/068483619X.0...</td>\n",
       "      <td>http://images.amazon.com/images/P/068483619X.0...</td>\n",
       "      <td>http://images.amazon.com/images/P/068483619X.0...</td>\n",
       "      <td>The first-ever complete biography of Hollywood...</td>\n",
       "      <td>en</td>\n",
       "      <td>['Biography &amp; Autobiography']</td>\n",
       "      <td>Sam Spiegel: The Incredible Life and Times of ...</td>\n",
       "    </tr>\n",
       "  </tbody>\n",
       "</table>\n",
       "</div>"
      ],
      "text/plain": [
       "        index        ISBN                                         Book-Title  \\\n",
       "60759  108648  068483619X  Sam Spiegel: The Incredible Life and Times of ...   \n",
       "\n",
       "                    Book-Author  Year-Of-Publication             Publisher  \\\n",
       "60759  Natasha Fraser-Cavassoni                 2003  Simon &amp; Schuster   \n",
       "\n",
       "                                             Image-URL-S  \\\n",
       "60759  http://images.amazon.com/images/P/068483619X.0...   \n",
       "\n",
       "                                             Image-URL-M  \\\n",
       "60759  http://images.amazon.com/images/P/068483619X.0...   \n",
       "\n",
       "                                             Image-URL-L  \\\n",
       "60759  http://images.amazon.com/images/P/068483619X.0...   \n",
       "\n",
       "                                                 Summary Language  \\\n",
       "60759  The first-ever complete biography of Hollywood...       en   \n",
       "\n",
       "                            Category  \\\n",
       "60759  ['Biography & Autobiography']   \n",
       "\n",
       "                                           BetterSummary  \n",
       "60759  Sam Spiegel: The Incredible Life and Times of ...  "
      ]
     },
     "execution_count": 130,
     "metadata": {},
     "output_type": "execute_result"
    }
   ],
   "source": [
    "df_bert_books.loc[df_bert_books['ISBN'] == '068483619X']"
   ]
  },
  {
   "cell_type": "code",
   "execution_count": 52,
   "id": "7707e6eb-629a-4043-b534-b0d1c55523c8",
   "metadata": {
    "tags": []
   },
   "outputs": [],
   "source": [
    "# Getting 403 when trying to display images in the notebook\n",
    "def display_images(image_urls):\n",
    "    images = []\n",
    "    for url in image_urls:\n",
    "        response = requests.get(url)\n",
    "        if response.status_code == 200:\n",
    "            img = Image.open(io.BytesIO(response.content)).resize((150, 150))\n",
    "            images.append(img)\n",
    "\n",
    "    fig, axs = plt.subplots(1, 8, figsize=(16, 4))\n",
    "    for i, ax in enumerate(axs.flat):\n",
    "        if i < len(images):\n",
    "            ax.imshow(images[i])\n",
    "        ax.axis('off')\n",
    "\n",
    "    plt.show()"
   ]
  }
 ],
 "metadata": {
  "kernelspec": {
   "display_name": "Python 3 (ipykernel)",
   "language": "python",
   "name": "python3"
  },
  "language_info": {
   "codemirror_mode": {
    "name": "ipython",
    "version": 3
   },
   "file_extension": ".py",
   "mimetype": "text/x-python",
   "name": "python",
   "nbconvert_exporter": "python",
   "pygments_lexer": "ipython3",
   "version": "3.10.8"
  }
 },
 "nbformat": 4,
 "nbformat_minor": 5
}
